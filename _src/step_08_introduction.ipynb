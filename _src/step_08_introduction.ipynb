{
 "cells": [
  {
   "cell_type": "code",
   "execution_count": 1,
   "metadata": {},
   "outputs": [],
   "source": [
    "from techminer2.search import concordance_documents  # type: ignore\n",
    "\n",
    "\n",
    "for sort_by in [\n",
    "    \"date_newest\",\n",
    "]:\n",
    "\n",
    "    documents = concordance_documents(\n",
    "        #\n",
    "        # FUNCTION PARAMS:\n",
    "        search_for=\"BUSINESS_ANALYTICS\",\n",
    "        #\n",
    "        # DATABASE PARAMS:\n",
    "        root_dir=\"../\",\n",
    "        database=\"main\",\n",
    "        year_filter=(None, None),\n",
    "        cited_by_filter=(0, None),\n",
    "        sort_by=sort_by,\n",
    "    )\n",
    "\n",
    "    documents = documents[:50]\n",
    "\n",
    "    documents = [documents[i : i + 10] for i in range(0, len(documents), 10)]\n",
    "\n",
    "    for i_group, group in enumerate(documents):\n",
    "\n",
    "        group = \"\\n---\\n\\n\".join(group)\n",
    "        group = \"---\\n\\n\" + group + \"\\n\\n---\"\n",
    "        i_group = f\"{i_group:02d}\"\n",
    "        with open(\n",
    "            f\"../reports/sec_10_intro/first_paragraph_{i_group}.txt\",\n",
    "            \"wt\",\n",
    "            encoding=\"utf-8\",\n",
    "        ) as f:\n",
    "            print(group, file=f)"
   ]
  }
 ],
 "metadata": {
  "kernelspec": {
   "display_name": ".venv",
   "language": "python",
   "name": "python3"
  },
  "language_info": {
   "codemirror_mode": {
    "name": "ipython",
    "version": 3
   },
   "file_extension": ".py",
   "mimetype": "text/x-python",
   "name": "python",
   "nbconvert_exporter": "python",
   "pygments_lexer": "ipython3",
   "version": "3.9.6"
  }
 },
 "nbformat": 4,
 "nbformat_minor": 2
}
