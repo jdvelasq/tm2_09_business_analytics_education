{
 "cells": [
  {
   "cell_type": "code",
   "execution_count": 1,
   "metadata": {},
   "outputs": [],
   "source": [
    "#\n",
    "# Join texts by section title\n",
    "#\n",
    "with open(\"../reports/sec_50_discussion/step_e_data.txt\", \"r\", encoding=\"utf-8\") as f:\n",
    "    lines = f.readlines()\n",
    "\n",
    "mapping = {}\n",
    "previous_title = None\n",
    "text = []\n",
    "for line in lines:\n",
    "    if line.startswith(\"### \"):\n",
    "\n",
    "        current_title = line[4:]\n",
    "        current_title = current_title.strip()\n",
    "\n",
    "        if previous_title is not None:\n",
    "            if previous_title not in mapping:\n",
    "                mapping[previous_title] = []\n",
    "            mapping[previous_title].append(\" \".join(text))\n",
    "        previous_title = current_title\n",
    "        text = []\n",
    "\n",
    "    else:\n",
    "        line = line.strip()\n",
    "        if line != \"\":\n",
    "            text.append(line)\n",
    "\n",
    "\n",
    "with open(\n",
    "    \"../reports/sec_50_discussion/step_e_results.txt\", \"w\", encoding=\"utf-8\"\n",
    ") as f:\n",
    "    for title, text in mapping.items():\n",
    "        f.write(\"\\n\\n\\n### \" + title.upper() + \"\\n\\n\")\n",
    "        f.write(\"\\n\\n---\\n\\n\".join(text))\n",
    "        f.write(\"\\n\\n\")"
   ]
  }
 ],
 "metadata": {
  "kernelspec": {
   "display_name": ".venv",
   "language": "python",
   "name": "python3"
  },
  "language_info": {
   "codemirror_mode": {
    "name": "ipython",
    "version": 3
   },
   "file_extension": ".py",
   "mimetype": "text/x-python",
   "name": "python",
   "nbconvert_exporter": "python",
   "pygments_lexer": "ipython3",
   "version": "3.9.6"
  }
 },
 "nbformat": 4,
 "nbformat_minor": 2
}
