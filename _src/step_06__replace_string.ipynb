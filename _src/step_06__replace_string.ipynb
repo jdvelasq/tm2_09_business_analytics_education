{
 "cells": [
  {
   "cell_type": "code",
   "execution_count": 11,
   "metadata": {},
   "outputs": [
    {
     "name": "stdout",
     "output_type": "stream",
     "text": [
      "--INFO-- The file ../thesauri/descriptors.the.txt has been processed.\n"
     ]
    }
   ],
   "source": [
    "from techminer2.thesaurus.descriptors import replace_string  # type: ignore\n",
    "\n",
    "replace_string(\n",
    "    #\n",
    "    # SEARCH PARAMS\n",
    "    contains=\"POWER_BUSINESS_INTELLIGENCE\",\n",
    "    startswith=None,\n",
    "    endswith=None,\n",
    "    #\n",
    "    # REPLACE PARAMS:\n",
    "    replace_by=\"POWER_BI\",\n",
    "    #\n",
    "    root_dir=\"../\",\n",
    ")"
   ]
  }
 ],
 "metadata": {
  "kernelspec": {
   "display_name": ".venv",
   "language": "python",
   "name": "python3"
  },
  "language_info": {
   "codemirror_mode": {
    "name": "ipython",
    "version": 3
   },
   "file_extension": ".py",
   "mimetype": "text/x-python",
   "name": "python",
   "nbconvert_exporter": "python",
   "pygments_lexer": "ipython3",
   "version": "3.9.6"
  }
 },
 "nbformat": 4,
 "nbformat_minor": 2
}
