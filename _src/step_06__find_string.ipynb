{
 "cells": [
  {
   "cell_type": "code",
   "execution_count": 1,
   "metadata": {},
   "outputs": [
    {
     "name": "stdout",
     "output_type": "stream",
     "text": [
      "--INFO-- The file ../thesauri/descriptors.the.txt has been reordered.\n"
     ]
    }
   ],
   "source": [
    "from techminer2.thesaurus.descriptors import find_string  #  type: ignore\n",
    "\n",
    "find_string(\n",
    "    #\n",
    "    # SEARCH PARAMS:\n",
    "    contains=[\n",
    "        \"SKILLS\",\n",
    "    ],\n",
    "    startswith=None,\n",
    "    endswith=None,\n",
    "    #\n",
    "    root_dir=\"../\",\n",
    ")"
   ]
  }
 ],
 "metadata": {
  "kernelspec": {
   "display_name": ".venv",
   "language": "python",
   "name": "python3"
  },
  "language_info": {
   "codemirror_mode": {
    "name": "ipython",
    "version": 3
   },
   "file_extension": ".py",
   "mimetype": "text/x-python",
   "name": "python",
   "nbconvert_exporter": "python",
   "pygments_lexer": "ipython3",
   "version": "3.9.6"
  }
 },
 "nbformat": 4,
 "nbformat_minor": 2
}
