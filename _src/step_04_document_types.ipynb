{
 "cells": [
  {
   "cell_type": "code",
   "execution_count": 1,
   "metadata": {},
   "outputs": [
    {
     "data": {
      "text/plain": [
       "['Article', 'Book chapter', 'Conference paper', 'Review']"
      ]
     },
     "execution_count": 1,
     "metadata": {},
     "output_type": "execute_result"
    }
   ],
   "source": [
    "from techminer2.tools import query  # type: ignore\n",
    "\n",
    "\n",
    "query(\n",
    "    expr=\"SELECT DISTINCT document_type FROM database;\",\n",
    "    #\n",
    "    # DATABASE PARAMS:\n",
    "    root_dir=\"../\",\n",
    "    database=\"main\",\n",
    "    year_filter=(None, None),\n",
    "    cited_by_filter=(None, None),\n",
    ")[\"document_type\"].sort_values().to_list()"
   ]
  },
  {
   "cell_type": "code",
   "execution_count": 9,
   "metadata": {},
   "outputs": [
    {
     "data": {
      "text/plain": [
       "document_type\n",
       "Article              435\n",
       "Conference paper     351\n",
       "Book chapter          93\n",
       "Book                  34\n",
       "Review                26\n",
       "Conference review     24\n",
       "Editorial             24\n",
       "Erratum                5\n",
       "Retracted              1\n",
       "Short survey           1\n",
       "Note                   1\n",
       "Name: count, dtype: int64"
      ]
     },
     "execution_count": 9,
     "metadata": {},
     "output_type": "execute_result"
    }
   ],
   "source": [
    "from techminer2.tools import query  # type: ignore\n",
    "\n",
    "\n",
    "query(\n",
    "    expr=\"SELECT document_type FROM database;\",\n",
    "    #\n",
    "    # DATABASE PARAMS:\n",
    "    root_dir=\"../\",\n",
    "    database=\"main\",\n",
    "    year_filter=(None, None),\n",
    "    cited_by_filter=(None, None),\n",
    ")[\"document_type\"].value_counts()"
   ]
  },
  {
   "cell_type": "code",
   "execution_count": null,
   "metadata": {},
   "outputs": [],
   "source": []
  }
 ],
 "metadata": {
  "kernelspec": {
   "display_name": ".venv",
   "language": "python",
   "name": "python3"
  },
  "language_info": {
   "codemirror_mode": {
    "name": "ipython",
    "version": 3
   },
   "file_extension": ".py",
   "mimetype": "text/x-python",
   "name": "python",
   "nbconvert_exporter": "python",
   "pygments_lexer": "ipython3",
   "version": "3.9.6"
  }
 },
 "nbformat": 4,
 "nbformat_minor": 2
}
